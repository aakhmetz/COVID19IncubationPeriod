{
 "cells": [
  {
   "cell_type": "code",
   "execution_count": 1,
   "metadata": {},
   "outputs": [
    {
     "data": {
      "text/plain": [
       "Plots.PyPlotBackend()"
      ]
     },
     "execution_count": 1,
     "metadata": {},
     "output_type": "execute_result"
    }
   ],
   "source": [
    "# load the functionality into Julia\n",
    "using StatsFuns, CSV, Cubature, ProgressMeter, DataFrames, Optim, SpecialFunctions, Roots\n",
    "using Distributions, DelimitedFiles, Random\n",
    "\n",
    "using Plots, StatsPlots, ColorBrewer\n",
    "pyplot()"
   ]
  },
  {
   "cell_type": "code",
   "execution_count": 2,
   "metadata": {},
   "outputs": [],
   "source": [
    "Plots.scalefontsizes(1.2)"
   ]
  },
  {
   "cell_type": "code",
   "execution_count": 3,
   "metadata": {},
   "outputs": [
    {
     "data": {
      "image/svg+xml": [
       "<?xml version=\"1.0\" encoding=\"UTF-8\"?>\n",
       "<!DOCTYPE svg PUBLIC \"-//W3C//DTD SVG 1.1//EN\"\n",
       " \"http://www.w3.org/Graphics/SVG/1.1/DTD/svg11.dtd\">\n",
       "<svg xmlns=\"http://www.w3.org/2000/svg\" version=\"1.1\"\n",
       "     width=\"50.0mm\" height=\"25.0mm\"\n",
       "     shape-rendering=\"crispEdges\">\n",
       "<rect x=\"0.0mm\" y=\"0.0mm\"\n",
       "      width=\"24.0mm\" height=\"24.0mm\"\n",
       "      fill=\"#BDD7E7\" stroke=\"none\" />\n",
       "<rect x=\"25.0mm\" y=\"0.0mm\"\n",
       "      width=\"24.0mm\" height=\"24.0mm\"\n",
       "      fill=\"#3182BD\" stroke=\"none\" />\n",
       "</svg>"
      ],
      "text/plain": [
       "2-element Array{RGB{N0f8},1} with eltype RGB{FixedPointNumbers.Normed{UInt8,8}}:\n",
       " RGB{N0f8}(0.741,0.843,0.906)\n",
       " RGB{N0f8}(0.192,0.51,0.741) "
      ]
     },
     "execution_count": 3,
     "metadata": {},
     "output_type": "execute_result"
    }
   ],
   "source": [
    "clrs = [ColorBrewer.palette(\"Blues\", 5)[2], ColorBrewer.palette(\"Blues\", 5)[4]];\n",
    "clrs"
   ]
  },
  {
   "cell_type": "code",
   "execution_count": 4,
   "metadata": {},
   "outputs": [
    {
     "data": {
      "text/plain": [
       "Process(`\u001b[4mmkdir\u001b[24m \u001b[4m-p\u001b[24m \u001b[4m../../results/Andrei\u001b[24m`, ProcessExited(0))"
      ]
     },
     "execution_count": 4,
     "metadata": {},
     "output_type": "execute_result"
    }
   ],
   "source": [
    "# output file\n",
    "results_dir = \"../../results/Andrei\"\n",
    "results_file = \"$(results_dir)/output.csv\"\n",
    "run(`mkdir -p $(results_dir)`)"
   ]
  },
  {
   "cell_type": "code",
   "execution_count": 5,
   "metadata": {},
   "outputs": [],
   "source": [
    "## The function is adopted from:\n",
    "## from https://github.com/robertfeldt/BlackBoxOptim.jl/blob/master/src/utilities/latin_hypercube_sampling.jl\n",
    "\"\"\"\n",
    "    latin_hypercube_sampling(mins, maxs, numSamples)\n",
    "    Randomly sample `numSamples` values from the parallelogram defined\n",
    "    by `mins` and `maxs` using the Latin hypercube algorithm.\n",
    "\"\"\"\n",
    "function latin_hypercube_sampling(mins::AbstractVector{T},\n",
    "                                  maxs::AbstractVector{T},\n",
    "                                  n::Integer) where T<:Number\n",
    "    length(mins) == length(maxs) ||\n",
    "        throw(DimensionMismatch(\"mins and maxs should have the same length\"))\n",
    "    all(xy -> xy[1] <= xy[2], zip(mins, maxs)) ||\n",
    "        throw(ArgumentError(\"mins[i] should not exceed maxs[i]\"))\n",
    "    dims = length(mins)\n",
    "    result = zeros(T, dims, n)\n",
    "    cubedim = Vector{T}(undef, n)\n",
    "    @inbounds for i in 1:dims\n",
    "        imin = mins[i]\n",
    "        dimstep = (maxs[i] - imin) / n\n",
    "        for j in 1:n\n",
    "            cubedim[j] = imin + dimstep * (j - 1 + rand(T))\n",
    "        end\n",
    "        result[i, :] .= shuffle!(cubedim)\n",
    "    end\n",
    "    return result\n",
    "end\n",
    "\n",
    "nsamples = 10000\n",
    "# for reproducibility we fix the seed of the random number generator\n",
    "smpls = latin_hypercube_sampling([0.0],[1.0],nsamples);"
   ]
  },
  {
   "cell_type": "markdown",
   "metadata": {},
   "source": [
    "# Distribution"
   ]
  },
  {
   "cell_type": "code",
   "execution_count": 6,
   "metadata": {},
   "outputs": [
    {
     "data": {
      "text/plain": [
       "weibullcdf (generic function with 1 method)"
      ]
     },
     "execution_count": 6,
     "metadata": {},
     "output_type": "execute_result"
    }
   ],
   "source": [
    "weibullpdf(α, θ, x) = begin z = x / θ; (α / θ) * z^(α - 1) * exp(-z^α) end\n",
    "weibullcdf(α, θ, x) = x > 0 ? -expm1(- ((x / θ) ^ α)) : 0.0"
   ]
  },
  {
   "cell_type": "markdown",
   "metadata": {},
   "source": [
    "# Without truncation"
   ]
  },
  {
   "cell_type": "code",
   "execution_count": 1,
   "metadata": {},
   "outputs": [
    {
     "name": "stdout",
     "output_type": "stream",
     "text": [
      "data_incper\n"
     ]
    },
    {
     "ename": "UndefVarError",
     "evalue": "UndefVarError: CSV not defined",
     "output_type": "error",
     "traceback": [
      "UndefVarError: CSV not defined",
      "",
      "Stacktrace:",
      " [1] top-level scope at In[1]:11"
     ]
    }
   ],
   "source": [
    "filenames = [\"data_incper\", \"data_incper_inclwuhan\", \"data_ons_hosp\", \"dthdata_hosp_dth\", \"dthdata_ons_dth\", \"dthdata_ons_hosp\"]\n",
    "tmax = [16, 16, 16, 35, 35, 16]\n",
    "tmstps = [4, 4, 4, 7, 7, 7]\n",
    "\n",
    "logmeans_inits = log.([4.2, 3, 3.7, 5., 6.2, 7.2])\n",
    "logα_inits = log.([1.05, 1.2, 1.2, 1.4, 1.4, 2.4])\n",
    "\n",
    "idx = 1\n",
    "for flname in filenames[idx:end]\n",
    "    println(flname)\n",
    "    df = DataFrame(CSV.read(\"../../data/$(flname).csv\", missingstring=\"NA\"))\n",
    "    select!(df, [:EL, :ER, :SL, :SR, :tstar])\n",
    "    rename!(df, Dict(:EL=>:E_L, :ER=>:E_R, :SL=>:S_L, :SR=>:S_R))\n",
    "    \n",
    "    if (idx==2)\n",
    "        df[df[!,:E_L].==0,:E_L] .= df[df[!,:E_L].==0,:S_L] .- 28.\n",
    "    end\n",
    "    \n",
    "    prog = ProgressThresh(-Inf, \"Without truncation:\") \n",
    "    function getNegativeLoglk(params)\n",
    "        mean_ = exp(params[1]) # make the parameters positive\n",
    "        α = exp(params[2]) # make the parameters positive\n",
    "        θ = mean_ / gamma(1 + 1/α)\n",
    "        loglk = 0\n",
    "        @inline function fs(t) \n",
    "            weibullpdf(α, θ, t)\n",
    "        end\n",
    "        @inline function Fs(t) \n",
    "            weibullcdf(α, θ, t)\n",
    "        end\n",
    "        # this for-loop is based on coarseData R package consolidated to one piece of code\n",
    "        @simd for k in 1:nrow(df)\n",
    "            E_R = df[k,:E_R]; E_L = df[k,:E_L]; S_R = df[k,:S_R]; S_L = df[k,:S_L]\n",
    "            if (S_L!=S_R)\n",
    "                if (S_L > E_R) # if the intervals do not overlap\n",
    "                    loglk += log(hquadrature(e -> (Fs(S_R-e) - Fs(S_L-e)), E_L, E_R)[1])\n",
    "                elseif (S_L > E_L)\n",
    "                    loglk += log(hquadrature(e -> (Fs(S_R-e) - Fs(S_L-e)), E_L, S_L)[1] + \n",
    "                                 hquadrature(e -> Fs(S_R-e), S_L, E_R)[1])\n",
    "                else\n",
    "                    loglk += log(hquadrature(e -> Fs(S_R-e), E_L, E_R)[1])\n",
    "                end\n",
    "            else\n",
    "                if (S_R > E_R) # if the intervals do not overlap\n",
    "                    loglk += log(hquadrature(e -> fs(S_R-e), E_L, E_R)[1])\n",
    "                elseif (S_L > E_L)\n",
    "                    loglk += log(hquadrature(e -> fs(S_R-e), E_L, S_R)[1] + hquadrature(e -> fs(S_R-e), S_R, E_R)[1])\n",
    "                end\n",
    "            end\n",
    "        end\n",
    "        ProgressMeter.update!(prog, -loglk)\n",
    "        return(-loglk)\n",
    "    end\n",
    "    \n",
    "    println(\"* MLE\")\n",
    "    res0 = optimize(x -> getNegativeLoglk(x), [logmeans_inits[idx], logα_inits[idx]], LBFGS())\n",
    "    \n",
    "    println(\"* Generating the results\")\n",
    "    logprms = Optim.minimizer(res0)\n",
    "    prms = exp.(logprms)\n",
    "    α = prms[2] # make the parameters positive\n",
    "    θ = prms[1] / gamma(1 + 1.0/prms[2])\n",
    "    println(\"* for note: $(α), $(θ)\")\n",
    "    logmeans_inits[idx] = logprms[1]\n",
    "    logα_inits[idx] = logprms[2]\n",
    "    mean_ = prms[1]\n",
    "    α_ = prms[2]\n",
    "    sd_ = mean_ * sqrt(gamma(1.0 + 2.0/α_)/gamma(1.0 + 1.0/α_)^2 - 1.0)\n",
    "\n",
    "    negloglk = Optim.minimum(res0)\n",
    "    AIC = -2*2 + 2negloglk\n",
    "\n",
    "    res = [mean_, sd_, negloglk, AIC]\n",
    "    \n",
    "    println(\"* profile-based for the mean\")\n",
    "    step = .1\n",
    "    y = x -> getNegativeLoglk([x, logprms[2]]) - negloglk - 1.92\n",
    "    x0 = logprms[1]\n",
    "    while y(x0)<0\n",
    "        x0 -= step\n",
    "    end\n",
    "    logprms1_lower = fzero(y, (x0,logprms[1]))[1]\n",
    "\n",
    "    x0 = logprms[1]\n",
    "    while y(x0)<0\n",
    "        x0 += step\n",
    "    end\n",
    "    logprms1_upper = fzero(y, (logprms[1], x0))[1]\n",
    "\n",
    "    res_ = exp.([logprms1_lower, logprms1_upper])\n",
    "    res = vcat(res, res_)\n",
    "    means_samples = latin_hypercube_sampling([res_[1]],[res_[2]],nsamples);\n",
    "    \n",
    "    println(\"* profile-based for the SD\")\n",
    "    step = .1\n",
    "    y = x -> getNegativeLoglk([logprms[1], x]) - negloglk - 1.92\n",
    "    x0 = logprms[2]\n",
    "    while y(x0)<0\n",
    "        x0 -= step\n",
    "    end\n",
    "    logprms2_lower = fzero(y, (x0,logprms[2]))[1]\n",
    "\n",
    "    x0 = logprms[2]\n",
    "    while y(x0)<0\n",
    "        x0 += step\n",
    "    end\n",
    "    logprms2_upper = fzero(y, (logprms[2], x0))[1]\n",
    "\n",
    "    res_ = exp.([logprms2_lower, logprms2_upper])\n",
    "    α_samples = latin_hypercube_sampling([res_[1]],[res_[2]],nsamples);\n",
    "    \n",
    "    SD_samples = []\n",
    "    for idx in 1:nsamples\n",
    "        append!(SD_samples,[means_samples[idx]*sqrt(gamma(1.0+2.0/α_samples[idx])/(gamma(1.0+1.0/α_samples[idx]))^2-1.0)])\n",
    "    end\n",
    "    res_ = [minimum(SD_samples), maximum(SD_samples)]\n",
    "    res = vcat(res, res_)\n",
    "    \n",
    "    println(\"* Creating a plot\")\n",
    "    t = [0:0.05:tmax[idx];]\n",
    "    for idx in 1:nsamples\n",
    "        α_ = α_samples[idx]\n",
    "        θ_ = means_samples[idx] / gamma(1 + 1/α_)\n",
    "        if idx>1\n",
    "            append!(y,[cdf.(Weibull(α_, θ_),t)])\n",
    "        else \n",
    "            y = [cdf.(Weibull(α_, θ_),t)]\n",
    "        end\n",
    "    end\n",
    "    plot(t, y[1:100], legend=false, color=clrs[1], alpha=.3, \n",
    "        grid=false, yticks = 0:0.2:1, xticks = 0:tmstps[idx]:tmax[idx],\n",
    "        xlabel=\"Exposure to onset (days)\", ylabel=\"Proportion with symptoms\",\n",
    "        size = (300,400), dpi = 300)\n",
    "    plot!(t, median(hcat(y...);dims=2), color=clrs[2], lw=1.4)\n",
    "\n",
    "    quantiles = [0.05,.5,.95,.99]\n",
    "    for idx in 1:nsamples\n",
    "        α_ = α_samples[idx]\n",
    "        θ_ = means_samples[idx] / gamma(1 + 1/α_)\n",
    "        if idx>1\n",
    "            append!(y,[quantile.(Weibull(α_, θ_),quantiles)])\n",
    "        else \n",
    "            y = [quantile.(Weibull(α_, θ_),quantiles)]\n",
    "        end\n",
    "    end\n",
    "    y = hcat(y...)\n",
    "    for i in 1:length(quantiles)\n",
    "        if i<=3\n",
    "            plot!(quantile(y[i,:],[0.025,.975]),[quantiles[i],quantiles[i]], color=clrs[2])\n",
    "        end\n",
    "    end\n",
    "    scatter!(median(y;dims=2)[1:(end-1)], quantiles[1:(end-1)], \n",
    "        color=clrs[2], markercolor=clrs[2], markersize=5) \n",
    "\n",
    "    Plots.pdf(\"$(results_dir)/weibull-$(flname)-no_truncation.pdf\")\n",
    "    \n",
    "    for i in 1:length(quantiles)\n",
    "        res_ = quantile(y[i,:],[0.025, .5, .975])\n",
    "        res = vcat(res, res_)\n",
    "    end\n",
    "    \n",
    "    println(res)\n",
    "    \n",
    "    res=reshape(vcat([\"$(flname)\",\"Weibull\", \"no\"],round.(res,digits=4)),1,length(res)+3)\n",
    "    open(results_file, \"a\") do io\n",
    "        writedlm(io, res, ',')\n",
    "    end\n",
    "    \n",
    "    idx += 1\n",
    "end"
   ]
  },
  {
   "cell_type": "markdown",
   "metadata": {},
   "source": [
    "# With truncation"
   ]
  },
  {
   "cell_type": "code",
   "execution_count": 18,
   "metadata": {},
   "outputs": [
    {
     "name": "stdout",
     "output_type": "stream",
     "text": [
      "data_incper_inclwuhan\n",
      "* MLE\n"
     ]
    },
    {
     "name": "stderr",
     "output_type": "stream",
     "text": [
      "\u001b[32mWith truncation: (thresh = -Inf, value = 398.408)\u001b[39m"
     ]
    },
    {
     "name": "stdout",
     "output_type": "stream",
     "text": [
      "* Generating the results\n",
      "* for note: [7.233543859502653, 1.8368297650563943]\n",
      "* profile-based for the mean\n"
     ]
    },
    {
     "name": "stderr",
     "output_type": "stream",
     "text": [
      "\u001b[32mWith truncation: (thresh = -Inf, value = 400.328)\u001b[39m"
     ]
    },
    {
     "name": "stdout",
     "output_type": "stream",
     "text": [
      "* profile-based for the SD\n"
     ]
    },
    {
     "name": "stderr",
     "output_type": "stream",
     "text": [
      "\u001b[32mWith truncation: (thresh = -Inf, value = 400.328)\u001b[39m"
     ]
    },
    {
     "name": "stdout",
     "output_type": "stream",
     "text": [
      "* Creating a plot\n",
      "[7.233543859502653, 4.082845350981802, 398.4082852852249, 792.8165705704498, 6.188930883247546, 8.53022456254911, 2.988575556613723, 5.693356035628966, 1.1074201253089797, 1.657934473744212, 2.3050171493185707, 5.676133621885931, 6.761296097374886, 7.9186084843186055, 12.173162669033427, 15.009078118979492, 18.32653604129085, 14.960320368408999, 18.90166811076577, 23.973672545763293]\n",
      "data_ons_hosp\n",
      "* MLE\n"
     ]
    },
    {
     "name": "stderr",
     "output_type": "stream",
     "text": [
      "\u001b[32mWith truncation: (thresh = -Inf, value = 625.506)\u001b[39m"
     ]
    },
    {
     "name": "stdout",
     "output_type": "stream",
     "text": [
      "* Generating the results\n",
      "* for note: [8.832583594136514, 0.7013298479405883]\n",
      "* profile-based for the mean\n"
     ]
    },
    {
     "name": "stderr",
     "output_type": "stream",
     "text": [
      "\u001b[32mWith truncation: (thresh = -Inf, value = 627.426)\u001b[39m"
     ]
    },
    {
     "name": "stdout",
     "output_type": "stream",
     "text": [
      "* profile-based for the SD\n"
     ]
    },
    {
     "name": "stderr",
     "output_type": "stream",
     "text": [
      "\u001b[32mWith truncation: (thresh = -Inf, value = 627.426)\u001b[39m"
     ]
    },
    {
     "name": "stdout",
     "output_type": "stream",
     "text": [
      "* Creating a plot\n",
      "[8.832583594136514, 12.888904338614692, 625.5064275912428, 1247.0128551824855, 5.354901814247025, 18.459551073242864, 6.7782563950242, 31.465476097041705, 0.043064644468701466, 0.13186790943685167, 0.33568574548830077, 2.5454576960453736, 5.540076992867264, 9.327266441602417, 21.235426251530136, 44.88187374171709, 70.02954288589488, 38.138545466601414, 82.38002795038113, 136.51465087361032]\n",
      "dthdata_hosp_dth\n",
      "* MLE\n"
     ]
    },
    {
     "name": "stderr",
     "output_type": "stream",
     "text": [
      "\u001b[32mWith truncation: (thresh = -Inf, value = 314.162)\u001b[39m"
     ]
    },
    {
     "name": "stdout",
     "output_type": "stream",
     "text": [
      "* Generating the results\n",
      "* for note: [13.04004471932511, 1.5937700669444181]\n",
      "* profile-based for the mean\n"
     ]
    },
    {
     "name": "stderr",
     "output_type": "stream",
     "text": [
      "\u001b[32mWith truncation: (thresh = -Inf, value = 316.082)\u001b[39m"
     ]
    },
    {
     "name": "stdout",
     "output_type": "stream",
     "text": [
      "* profile-based for the SD\n"
     ]
    },
    {
     "name": "stderr",
     "output_type": "stream",
     "text": [
      "\u001b[32mWith truncation: (thresh = -Inf, value = 316.082)\u001b[39m"
     ]
    },
    {
     "name": "stdout",
     "output_type": "stream",
     "text": [
      "* Creating a plot\n",
      "[13.04004471932511, 8.374235517845158, 314.1620745481801, 624.3241490963602, 9.102561252868593, 26.903835278408067, 4.718411762727034, 22.09618542703941, 1.1878844764556282, 3.0334771081365, 6.254644129553458, 8.388437500294026, 15.929916342352168, 24.017534164943946, 20.40102311434441, 39.34555449124248, 63.24124780867276, 25.666987376560538, 51.249218667091256, 87.68887449219204]\n",
      "dthdata_ons_dth\n",
      "* MLE\n"
     ]
    },
    {
     "name": "stderr",
     "output_type": "stream",
     "text": [
      "\u001b[32mWith truncation: (thresh = -Inf, value = 282.733)\u001b[39m"
     ]
    },
    {
     "name": "stdout",
     "output_type": "stream",
     "text": [
      "* Generating the results\n",
      "* for note: [1.3808687941204297e22, 1.8645931585033746]\n",
      "* profile-based for the mean\n"
     ]
    },
    {
     "name": "stderr",
     "output_type": "stream",
     "text": [
      "\u001b[32mWith truncation: (thresh = -Inf, value = 282.733)\u001b[39m"
     ]
    },
    {
     "ename": "InterruptException",
     "evalue": "InterruptException:",
     "output_type": "error",
     "traceback": [
      "InterruptException:",
      "",
      "Stacktrace:",
      " [1] #17 at /home/aakhmetz/.julia/packages/Cubature/GQTey/src/Cubature.jl:224 [inlined]",
      " [2] disable_sigint at ./c.jl:446 [inlined]",
      " [3] cubature(::Bool, ::Bool, ::Bool, ::Bool, ::Int64, ::var\"#148#164\"{var\"#Fs#161\"{Float64,Float64},Float64,Float64,var\"#g#162\"{Float64,var\"#Fs#161\"{Float64,Float64},Int64}}, ::Int64, ::Int64, ::Float64, ::Int64, ::Int64, ::Int32) at /home/aakhmetz/.julia/packages/Cubature/GQTey/src/Cubature.jl:178",
      " [4] #hquadrature#30(::Float64, ::Int64, ::Int64, ::typeof(hquadrature), ::Function, ::Int64, ::Int64) at /home/aakhmetz/.julia/packages/Cubature/GQTey/src/Cubature.jl:239",
      " [5] hquadrature(::Function, ::Int64, ::Int64) at /home/aakhmetz/.julia/packages/Cubature/GQTey/src/Cubature.jl:239",
      " [6] (::var\"#getNegativeLoglk#159\"{DataFrame,ProgressThresh{Float64}})(::Array{Float64,1}) at ./In[18]:42",
      " [7] (::var\"#156#172\"{var\"#getNegativeLoglk#159\"{DataFrame,ProgressThresh{Float64}},Array{Float64,1},Float64})(::Float64) at ./In[18]:81",
      " [8] top-level scope at In[18]:89"
     ]
    }
   ],
   "source": [
    "filenames = [\"data_incper\", \"data_incper_inclwuhan\", \"data_ons_hosp\", \"dthdata_hosp_dth\", \"dthdata_ons_dth\", \"dthdata_ons_hosp\"]\n",
    "tmax = [16, 16, 16, 35, 35, 16]\n",
    "tmstps = [4, 4, 4, 7, 7, 7]\n",
    "\n",
    "logmeans_inits = log.([4.2, 9.2, 3.7, 4., 4., 5.])\n",
    "logα_inits = log.([1.05, 2.12, 1.2, 1., 1., 1.1])\n",
    "#[9.222521342198092, 2.123142000905211]\n",
    "\n",
    "idx = 2\n",
    "for flname in filenames[idx:end]\n",
    "    println(flname)\n",
    "    df = DataFrame(CSV.read(\"../../data/$(flname).csv\", missingstring=\"NA\"))\n",
    "    select!(df, [:EL, :ER, :SL, :SR, :tstar])\n",
    "    rename!(df, Dict(:EL=>:E_L, :ER=>:E_R, :SL=>:S_L, :SR=>:S_R))\n",
    "    \n",
    "    prog = ProgressThresh(-Inf, \"With truncation:\") \n",
    "    function getNegativeLoglk(params)\n",
    "        if (idx == 2)\n",
    "            df[df[!,:E_L].==0,:E_L] .= df[df[!,:E_L].==0,:E_R] .- 14\n",
    "        else\n",
    "            df[df[!,:E_L].==0,:E_L] .= df[df[!,:E_L].==0,:E_R] .- 28\n",
    "        end\n",
    "        r = 0.14\n",
    "        mean_ = exp(params[1]) # make the parameters positive\n",
    "        α = exp(params[2]) # make the parameters positive\n",
    "        θ = mean_ / gamma(1 + 1/α)\n",
    "        loglk = 0\n",
    "        @inline function fs(t) \n",
    "            weibullpdf(α, θ, t)\n",
    "        end\n",
    "        @inline function Fs(t) \n",
    "            weibullcdf(α, θ, t)\n",
    "        end\n",
    "        # this for-loop is based on coarseData R package consolidated to one piece of code\n",
    "        @simd for k in 1:nrow(df)\n",
    "            E_R = df[k,:E_R]; E_L = df[k,:E_L]; S_R = df[k,:S_R]; S_L = df[k,:S_L]; tstar = df[k,:tstar]\n",
    "            @inline function g(e)\n",
    "                hquadrature(x -> r*exp(-r*x)/(1-exp(-r*x))*Fs(tstar-e-x), 0.001, tstar-e)[1]\n",
    "            end\n",
    "            if (S_L!=S_R)\n",
    "                if (S_L > E_R) # if the intervals do not overlap\n",
    "                    loglk += log(hquadrature(e -> (Fs(S_R-e) - Fs(S_L-e))/g(e), E_L, E_R)[1])\n",
    "                elseif (S_L > E_L)\n",
    "                    loglk += log(hquadrature(e -> (Fs(S_R-e) - Fs(S_L-e))/g(e), E_L, S_L)[1] + \n",
    "                                 hquadrature(e -> Fs(S_R-e)/g(e), S_L, E_R)[1])\n",
    "                else\n",
    "                    loglk += log(hquadrature(e -> Fs(S_R-e)/g(e), E_L, E_R)[1])\n",
    "                end\n",
    "            else\n",
    "                if (S_R > E_R) # if the intervals do not overlap\n",
    "                    loglk += log(hquadrature(e -> fs(S_R-e)/g(e), E_L, E_R)[1])\n",
    "                elseif (S_L > E_L)\n",
    "                    loglk += log(hquadrature(e -> fs(S_R-e)/g(e), E_L, S_R)[1] + hquadrature(e -> fs(S_R-e)/g(e), S_R, E_R)[1])\n",
    "                end\n",
    "            end\n",
    "        end\n",
    "        ProgressMeter.update!(prog, -loglk)\n",
    "        return(-loglk)\n",
    "    end\n",
    "    \n",
    "    println(\"* MLE\")\n",
    "    res0 = optimize(x -> getNegativeLoglk(x), [logmeans_inits[idx], logα_inits[idx]])\n",
    "    \n",
    "    println(\"* Generating the results\")\n",
    "    logprms = Optim.minimizer(res0)\n",
    "    prms = exp.(logprms)\n",
    "    println(\"* for note: $(prms)\")\n",
    "    logmeans_inits[idx] = logprms[1]\n",
    "    logα_inits[idx] = logprms[2]\n",
    "    mean_ = prms[1]\n",
    "    α_ = prms[2]\n",
    "    sd_ = mean_ * sqrt(gamma(1.0 + 2.0/α_)/gamma(1.0 + 1.0/α_)^2 - 1.0)\n",
    "\n",
    "    negloglk = Optim.minimum(res0)\n",
    "    AIC = -2*2 + 2negloglk\n",
    "\n",
    "    res = [mean_, sd_, negloglk, AIC]\n",
    "    \n",
    "    println(\"* profile-based for the mean\")\n",
    "    step = .1\n",
    "    y = x -> getNegativeLoglk([x, logprms[2]]) - negloglk - 1.92\n",
    "    x0 = logprms[1]\n",
    "    while y(x0)<0\n",
    "        x0 -= step\n",
    "    end\n",
    "    logprms1_lower = fzero(y, (x0,logprms[1]))[1]\n",
    "\n",
    "    x0 = logprms[1]\n",
    "    while y(x0)<0\n",
    "        x0 += step\n",
    "    end\n",
    "    logprms1_upper = fzero(y, (logprms[1], x0))[1]\n",
    "\n",
    "    res_ = exp.([logprms1_lower, logprms1_upper])\n",
    "    res = vcat(res, res_)\n",
    "    means_samples = latin_hypercube_sampling([res_[1]],[res_[2]],nsamples);\n",
    "    \n",
    "    println(\"* profile-based for the SD\")\n",
    "    step = .1\n",
    "    y = x -> getNegativeLoglk([logprms[1], x]) - negloglk - 1.92\n",
    "    x0 = logprms[2]\n",
    "    while y(x0)<0\n",
    "        x0 -= step\n",
    "    end\n",
    "    logprms2_lower = fzero(y, (x0,logprms[2]))[1]\n",
    "\n",
    "    x0 = logprms[2]\n",
    "    while y(x0)<0\n",
    "        x0 += step\n",
    "    end\n",
    "    logprms2_upper = fzero(y, (logprms[2], x0))[1]\n",
    "\n",
    "    res_ = exp.([logprms2_lower, logprms2_upper])\n",
    "    α_samples = latin_hypercube_sampling([res_[1]],[res_[2]],nsamples);\n",
    "    \n",
    "    SD_samples = []\n",
    "    for idx in 1:nsamples\n",
    "        append!(SD_samples,[means_samples[idx]*sqrt(gamma(1.0+2.0/α_samples[idx])/(gamma(1.0+1.0/α_samples[idx]))^2-1.0)])\n",
    "    end\n",
    "    res_ = [minimum(SD_samples), maximum(SD_samples)]\n",
    "    res = vcat(res, res_)\n",
    "    \n",
    "    println(\"* Creating a plot\")\n",
    "    t = [0:0.05:tmax[idx];]\n",
    "    for idx in 1:nsamples\n",
    "        α_ = α_samples[idx]\n",
    "        θ_ = means_samples[idx] / gamma(1 + 1/α_)\n",
    "        if idx>1\n",
    "            append!(y,[cdf.(Weibull(α_, θ_),t)])\n",
    "        else \n",
    "            y = [cdf.(Weibull(α_, θ_),t)]\n",
    "        end\n",
    "    end\n",
    "    plot(t, y[1:100], legend=false, color=clrs[1], alpha=.3, \n",
    "        grid=false, yticks = 0:0.2:1, xticks = 0:tmstps[idx]:tmax[idx],\n",
    "        xlabel=\"Exposure to onset (days)\", ylabel=\"Proportion with symptoms\",\n",
    "        size = (300,400), dpi = 300)\n",
    "    plot!(t, median(hcat(y...);dims=2), color=clrs[2], lw=1.4)\n",
    "\n",
    "    quantiles = [0.05,.5,.95,.99]\n",
    "    for idx in 1:nsamples\n",
    "        α_ = α_samples[idx]\n",
    "        θ_ = means_samples[idx] / gamma(1 + 1/α_)\n",
    "        if idx>1\n",
    "            append!(y,[quantile.(Weibull(α_, θ_),quantiles)])\n",
    "        else \n",
    "            y = [quantile.(Weibull(α_, θ_),quantiles)]\n",
    "        end\n",
    "    end\n",
    "    y = hcat(y...)\n",
    "    for i in 1:length(quantiles)\n",
    "        if i<=3\n",
    "            plot!(quantile(y[i,:],[0.025,.975]),[quantiles[i],quantiles[i]], color=clrs[2])\n",
    "        end\n",
    "    end\n",
    "    scatter!(median(y;dims=2)[1:(end-1)], quantiles[1:(end-1)], \n",
    "        color=clrs[2], markercolor=clrs[2], markersize=5) \n",
    "\n",
    "    Plots.pdf(\"$(results_dir)/weibull-$(flname)-with_truncation.pdf\")\n",
    "    \n",
    "    for i in 1:length(quantiles)\n",
    "        res_ = quantile(y[i,:],[0.025, .5, .975])\n",
    "        res = vcat(res, res_)\n",
    "    end\n",
    "    \n",
    "    println(res)\n",
    "    \n",
    "    res=reshape(vcat([\"$(flname)\",\"Weibull\", \"yes\"],round.(res,digits=4)),1,length(res)+3)\n",
    "    open(results_file, \"a\") do io\n",
    "        writedlm(io, res, ',')\n",
    "    end\n",
    "    \n",
    "    idx += 1\n",
    "end"
   ]
  },
  {
   "cell_type": "code",
   "execution_count": null,
   "metadata": {},
   "outputs": [],
   "source": []
  },
  {
   "cell_type": "code",
   "execution_count": null,
   "metadata": {},
   "outputs": [],
   "source": []
  }
 ],
 "metadata": {
  "kernelspec": {
   "display_name": "Julia 1.3.1",
   "language": "julia",
   "name": "julia-1.3"
  },
  "language_info": {
   "file_extension": ".jl",
   "mimetype": "application/julia",
   "name": "julia",
   "version": "1.3.1"
  }
 },
 "nbformat": 4,
 "nbformat_minor": 4
}
