{
 "cells": [
  {
   "cell_type": "code",
   "execution_count": 1,
   "metadata": {},
   "outputs": [
    {
     "data": {
      "text/plain": [
       "Plots.PyPlotBackend()"
      ]
     },
     "execution_count": 1,
     "metadata": {},
     "output_type": "execute_result"
    }
   ],
   "source": [
    "# load the functionality into Julia\n",
    "using StatsFuns, CSV, Cubature, ProgressMeter, DataFrames, Optim, SpecialFunctions, Roots\n",
    "using Distributions, DelimitedFiles, Random\n",
    "\n",
    "using Plots, StatsPlots, ColorBrewer\n",
    "pyplot()"
   ]
  },
  {
   "cell_type": "code",
   "execution_count": 2,
   "metadata": {},
   "outputs": [],
   "source": [
    "Plots.scalefontsizes(1.2)"
   ]
  },
  {
   "cell_type": "code",
   "execution_count": 3,
   "metadata": {},
   "outputs": [
    {
     "data": {
      "image/svg+xml": [
       "<?xml version=\"1.0\" encoding=\"UTF-8\"?>\n",
       "<!DOCTYPE svg PUBLIC \"-//W3C//DTD SVG 1.1//EN\"\n",
       " \"http://www.w3.org/Graphics/SVG/1.1/DTD/svg11.dtd\">\n",
       "<svg xmlns=\"http://www.w3.org/2000/svg\" version=\"1.1\"\n",
       "     width=\"50.0mm\" height=\"25.0mm\"\n",
       "     shape-rendering=\"crispEdges\">\n",
       "<rect x=\"0.0mm\" y=\"0.0mm\"\n",
       "      width=\"24.0mm\" height=\"24.0mm\"\n",
       "      fill=\"#BDD7E7\" stroke=\"none\" />\n",
       "<rect x=\"25.0mm\" y=\"0.0mm\"\n",
       "      width=\"24.0mm\" height=\"24.0mm\"\n",
       "      fill=\"#3182BD\" stroke=\"none\" />\n",
       "</svg>"
      ],
      "text/plain": [
       "2-element Array{RGB{N0f8},1} with eltype RGB{FixedPointNumbers.Normed{UInt8,8}}:\n",
       " RGB{N0f8}(0.741,0.843,0.906)\n",
       " RGB{N0f8}(0.192,0.51,0.741) "
      ]
     },
     "execution_count": 3,
     "metadata": {},
     "output_type": "execute_result"
    }
   ],
   "source": [
    "clrs = [ColorBrewer.palette(\"Blues\", 5)[2], ColorBrewer.palette(\"Blues\", 5)[4]];\n",
    "clrs"
   ]
  },
  {
   "cell_type": "code",
   "execution_count": 4,
   "metadata": {},
   "outputs": [
    {
     "data": {
      "text/plain": [
       "Process(`\u001b[4mmkdir\u001b[24m \u001b[4m-p\u001b[24m \u001b[4m../../results/Andrei\u001b[24m`, ProcessExited(0))"
      ]
     },
     "execution_count": 4,
     "metadata": {},
     "output_type": "execute_result"
    }
   ],
   "source": [
    "# output file\n",
    "results_dir = \"../../results/Andrei\"\n",
    "results_file = \"$(results_dir)/output.csv\"\n",
    "run(`mkdir -p $(results_dir)`)"
   ]
  },
  {
   "cell_type": "code",
   "execution_count": 5,
   "metadata": {},
   "outputs": [],
   "source": [
    "header = [\"filename\",\"distribution\",\"truncated\",\"mean\",\"sd\",\"negloglk\",\"AIC\",\"mean_lower\",\"mean_upper\",\n",
    "    \"sd_lower\",\"sd_upper\",\n",
    "    \"q5_lower\",\"q5_median\",\"q5_upper\",\n",
    "    \"q50_lower\",\"q50_median\",\"q50_upper\",\n",
    "    \"q95_lower\",\"q95_median\",\"q95_upper\",\n",
    "    \"q99_lower\",\"q99_median\",\"q99_upper\"]\n",
    "header=reshape(header,1,length(header))\n",
    "open(results_file, \"w\") do io\n",
    "    writedlm(io, header, ',')\n",
    "end"
   ]
  },
  {
   "cell_type": "code",
   "execution_count": 6,
   "metadata": {},
   "outputs": [],
   "source": [
    "## The function is adopted from:\n",
    "## from https://github.com/robertfeldt/BlackBoxOptim.jl/blob/master/src/utilities/latin_hypercube_sampling.jl\n",
    "\"\"\"\n",
    "    latin_hypercube_sampling(mins, maxs, numSamples)\n",
    "    Randomly sample `numSamples` values from the parallelogram defined\n",
    "    by `mins` and `maxs` using the Latin hypercube algorithm.\n",
    "\"\"\"\n",
    "function latin_hypercube_sampling(mins::AbstractVector{T},\n",
    "                                  maxs::AbstractVector{T},\n",
    "                                  n::Integer) where T<:Number\n",
    "    length(mins) == length(maxs) ||\n",
    "        throw(DimensionMismatch(\"mins and maxs should have the same length\"))\n",
    "    all(xy -> xy[1] <= xy[2], zip(mins, maxs)) ||\n",
    "        throw(ArgumentError(\"mins[i] should not exceed maxs[i]\"))\n",
    "    dims = length(mins)\n",
    "    result = zeros(T, dims, n)\n",
    "    cubedim = Vector{T}(undef, n)\n",
    "    @inbounds for i in 1:dims\n",
    "        imin = mins[i]\n",
    "        dimstep = (maxs[i] - imin) / n\n",
    "        for j in 1:n\n",
    "            cubedim[j] = imin + dimstep * (j - 1 + rand(T))\n",
    "        end\n",
    "        result[i, :] .= shuffle!(cubedim)\n",
    "    end\n",
    "    return result\n",
    "end\n",
    "\n",
    "nsamples = 10000\n",
    "# for reproducibility we fix the seed of the random number generator\n",
    "smpls = latin_hypercube_sampling([0.0],[1.0],nsamples);"
   ]
  },
  {
   "cell_type": "code",
   "execution_count": 7,
   "metadata": {},
   "outputs": [
    {
     "data": {
      "text/plain": [
       "6-element Array{String,1}:\n",
       " \"data_incper\"          \n",
       " \"data_incper_inclwuhan\"\n",
       " \"data_ons_hosp\"        \n",
       " \"dthdata_hosp_dth\"     \n",
       " \"dthdata_ons_dth\"      \n",
       " \"dthdata_ons_hosp\"     "
      ]
     },
     "execution_count": 7,
     "metadata": {},
     "output_type": "execute_result"
    }
   ],
   "source": [
    "filenames = [\"data_incper\", \"data_incper_inclwuhan\", \"data_ons_hosp\", \n",
    "    \"dthdata_hosp_dth\", \"dthdata_ons_dth\", \"dthdata_ons_hosp\"]"
   ]
  },
  {
   "cell_type": "code",
   "execution_count": 8,
   "metadata": {},
   "outputs": [
    {
     "data": {
      "text/html": [
       "<table class=\"data-frame\"><thead><tr><th></th><th>E_L</th><th>E_R</th><th>S_L</th><th>S_R</th><th>tstar</th></tr><tr><th></th><th>Int64</th><th>Int64</th><th>Int64</th><th>Int64</th><th>Int64</th></tr></thead><tbody><p>161 rows × 5 columns</p><tr><th>1</th><td>28</td><td>33</td><td>33</td><td>34</td><td>62</td></tr><tr><th>2</th><td>0</td><td>35</td><td>35</td><td>36</td><td>62</td></tr><tr><th>3</th><td>0</td><td>43</td><td>43</td><td>44</td><td>62</td></tr><tr><th>4</th><td>0</td><td>48</td><td>48</td><td>49</td><td>62</td></tr><tr><th>5</th><td>37</td><td>43</td><td>43</td><td>44</td><td>62</td></tr><tr><th>6</th><td>39</td><td>44</td><td>44</td><td>45</td><td>62</td></tr><tr><th>7</th><td>0</td><td>43</td><td>43</td><td>44</td><td>62</td></tr><tr><th>8</th><td>0</td><td>42</td><td>45</td><td>46</td><td>62</td></tr><tr><th>9</th><td>38</td><td>41</td><td>41</td><td>47</td><td>62</td></tr><tr><th>10</th><td>0</td><td>33</td><td>34</td><td>35</td><td>62</td></tr><tr><th>11</th><td>0</td><td>50</td><td>50</td><td>51</td><td>62</td></tr><tr><th>12</th><td>0</td><td>28</td><td>28</td><td>29</td><td>62</td></tr><tr><th>13</th><td>0</td><td>41</td><td>45</td><td>46</td><td>62</td></tr><tr><th>14</th><td>0</td><td>41</td><td>41</td><td>49</td><td>62</td></tr><tr><th>15</th><td>16</td><td>45</td><td>45</td><td>46</td><td>62</td></tr><tr><th>16</th><td>40</td><td>41</td><td>44</td><td>45</td><td>62</td></tr><tr><th>17</th><td>33</td><td>34</td><td>39</td><td>40</td><td>62</td></tr><tr><th>18</th><td>38</td><td>46</td><td>46</td><td>47</td><td>62</td></tr><tr><th>19</th><td>42</td><td>47</td><td>49</td><td>50</td><td>62</td></tr><tr><th>20</th><td>43</td><td>47</td><td>47</td><td>51</td><td>62</td></tr><tr><th>21</th><td>19</td><td>39</td><td>40</td><td>41</td><td>62</td></tr><tr><th>22</th><td>0</td><td>32</td><td>32</td><td>41</td><td>62</td></tr><tr><th>23</th><td>0</td><td>41</td><td>41</td><td>42</td><td>62</td></tr><tr><th>24</th><td>43</td><td>44</td><td>44</td><td>45</td><td>62</td></tr><tr><th>25</th><td>42</td><td>45</td><td>49</td><td>50</td><td>62</td></tr><tr><th>26</th><td>0</td><td>49</td><td>49</td><td>50</td><td>62</td></tr><tr><th>27</th><td>0</td><td>42</td><td>46</td><td>47</td><td>62</td></tr><tr><th>28</th><td>40</td><td>48</td><td>48</td><td>49</td><td>62</td></tr><tr><th>29</th><td>41</td><td>44</td><td>49</td><td>50</td><td>62</td></tr><tr><th>30</th><td>41</td><td>49</td><td>50</td><td>51</td><td>62</td></tr><tr><th>&vellip;</th><td>&vellip;</td><td>&vellip;</td><td>&vellip;</td><td>&vellip;</td><td>&vellip;</td></tr></tbody></table>"
      ],
      "text/latex": [
       "\\begin{tabular}{r|ccccc}\n",
       "\t& E\\_L & E\\_R & S\\_L & S\\_R & tstar\\\\\n",
       "\t\\hline\n",
       "\t& Int64 & Int64 & Int64 & Int64 & Int64\\\\\n",
       "\t\\hline\n",
       "\t1 & 28 & 33 & 33 & 34 & 62 \\\\\n",
       "\t2 & 0 & 35 & 35 & 36 & 62 \\\\\n",
       "\t3 & 0 & 43 & 43 & 44 & 62 \\\\\n",
       "\t4 & 0 & 48 & 48 & 49 & 62 \\\\\n",
       "\t5 & 37 & 43 & 43 & 44 & 62 \\\\\n",
       "\t6 & 39 & 44 & 44 & 45 & 62 \\\\\n",
       "\t7 & 0 & 43 & 43 & 44 & 62 \\\\\n",
       "\t8 & 0 & 42 & 45 & 46 & 62 \\\\\n",
       "\t9 & 38 & 41 & 41 & 47 & 62 \\\\\n",
       "\t10 & 0 & 33 & 34 & 35 & 62 \\\\\n",
       "\t11 & 0 & 50 & 50 & 51 & 62 \\\\\n",
       "\t12 & 0 & 28 & 28 & 29 & 62 \\\\\n",
       "\t13 & 0 & 41 & 45 & 46 & 62 \\\\\n",
       "\t14 & 0 & 41 & 41 & 49 & 62 \\\\\n",
       "\t15 & 16 & 45 & 45 & 46 & 62 \\\\\n",
       "\t16 & 40 & 41 & 44 & 45 & 62 \\\\\n",
       "\t17 & 33 & 34 & 39 & 40 & 62 \\\\\n",
       "\t18 & 38 & 46 & 46 & 47 & 62 \\\\\n",
       "\t19 & 42 & 47 & 49 & 50 & 62 \\\\\n",
       "\t20 & 43 & 47 & 47 & 51 & 62 \\\\\n",
       "\t21 & 19 & 39 & 40 & 41 & 62 \\\\\n",
       "\t22 & 0 & 32 & 32 & 41 & 62 \\\\\n",
       "\t23 & 0 & 41 & 41 & 42 & 62 \\\\\n",
       "\t24 & 43 & 44 & 44 & 45 & 62 \\\\\n",
       "\t25 & 42 & 45 & 49 & 50 & 62 \\\\\n",
       "\t26 & 0 & 49 & 49 & 50 & 62 \\\\\n",
       "\t27 & 0 & 42 & 46 & 47 & 62 \\\\\n",
       "\t28 & 40 & 48 & 48 & 49 & 62 \\\\\n",
       "\t29 & 41 & 44 & 49 & 50 & 62 \\\\\n",
       "\t30 & 41 & 49 & 50 & 51 & 62 \\\\\n",
       "\t$\\dots$ & $\\dots$ & $\\dots$ & $\\dots$ & $\\dots$ & $\\dots$ \\\\\n",
       "\\end{tabular}\n"
      ],
      "text/plain": [
       "161×5 DataFrame\n",
       "│ Row │ E_L   │ E_R   │ S_L   │ S_R   │ tstar │\n",
       "│     │ \u001b[90mInt64\u001b[39m │ \u001b[90mInt64\u001b[39m │ \u001b[90mInt64\u001b[39m │ \u001b[90mInt64\u001b[39m │ \u001b[90mInt64\u001b[39m │\n",
       "├─────┼───────┼───────┼───────┼───────┼───────┤\n",
       "│ 1   │ 28    │ 33    │ 33    │ 34    │ 62    │\n",
       "│ 2   │ 0     │ 35    │ 35    │ 36    │ 62    │\n",
       "│ 3   │ 0     │ 43    │ 43    │ 44    │ 62    │\n",
       "│ 4   │ 0     │ 48    │ 48    │ 49    │ 62    │\n",
       "│ 5   │ 37    │ 43    │ 43    │ 44    │ 62    │\n",
       "│ 6   │ 39    │ 44    │ 44    │ 45    │ 62    │\n",
       "│ 7   │ 0     │ 43    │ 43    │ 44    │ 62    │\n",
       "│ 8   │ 0     │ 42    │ 45    │ 46    │ 62    │\n",
       "│ 9   │ 38    │ 41    │ 41    │ 47    │ 62    │\n",
       "│ 10  │ 0     │ 33    │ 34    │ 35    │ 62    │\n",
       "⋮\n",
       "│ 151 │ 0     │ 51    │ 51    │ 52    │ 62    │\n",
       "│ 152 │ 0     │ 54    │ 54    │ 55    │ 62    │\n",
       "│ 153 │ 0     │ 54    │ 54    │ 55    │ 62    │\n",
       "│ 154 │ 23    │ 43    │ 55    │ 56    │ 62    │\n",
       "│ 155 │ 46    │ 52    │ 53    │ 54    │ 62    │\n",
       "│ 156 │ 48    │ 50    │ 50    │ 51    │ 62    │\n",
       "│ 157 │ 0     │ 52    │ 57    │ 58    │ 62    │\n",
       "│ 158 │ 0     │ 52    │ 56    │ 57    │ 62    │\n",
       "│ 159 │ 0     │ 60    │ 60    │ 61    │ 62    │\n",
       "│ 160 │ 42    │ 57    │ 57    │ 58    │ 62    │\n",
       "│ 161 │ 51    │ 53    │ 59    │ 60    │ 62    │"
      ]
     },
     "execution_count": 8,
     "metadata": {},
     "output_type": "execute_result"
    }
   ],
   "source": [
    "df = DataFrame(CSV.read(\"../../data/$(filenames[2]).csv\", missingstring=\"NA\"))\n",
    "select!(df, [:EL, :ER, :SL, :SR, :tstar])\n",
    "rename!(df, Dict(:EL=>:E_L, :ER=>:E_R, :SL=>:S_L, :SR=>:S_R))"
   ]
  },
  {
   "cell_type": "code",
   "execution_count": null,
   "metadata": {},
   "outputs": [
    {
     "name": "stderr",
     "output_type": "stream",
     "text": [
      "\u001b[32mWithout truncation: (thresh = -Inf, value = Inf)\u001b[39m[39m"
     ]
    }
   ],
   "source": [
    "flname = filenames[1]\n",
    "idx=1\n",
    "println(flname)\n",
    "df = DataFrame(CSV.read(\"../../data/$(flname).csv\", missingstring=\"NA\"))\n",
    "select!(df, [:EL, :ER, :SL, :SR, :tstar])\n",
    "rename!(df, Dict(:EL=>:E_L, :ER=>:E_R, :SL=>:S_L, :SR=>:S_R))\n",
    "\n",
    "logmeans_inits = log.([4.2, 5.5, 3.7, 5., 6.8, 7.2])\n",
    "logsd_inits = log.([3.2, 5.5, 6.2, 5., 5.8, 5.5])\n",
    "\n",
    "if (idx==2)\n",
    "    df[df[!,:E_L].==0,:E_L] .= df[df[!,:E_L].==0,:S_L] .- 28.\n",
    "end\n",
    "\n",
    "prog = ProgressThresh(-Inf, \"Without truncation:\") \n",
    "function getNegativeLoglk(params)\n",
    "    mean_SI = exp(params[1]) # make the parameters positive\n",
    "    sd_SI = exp(params[2]) # make the parameters positive\n",
    "    shape = (mean_SI/sd_SI)^2\n",
    "    invscale = (sd_SI^2)/mean_SI\n",
    "    loglk = 0\n",
    "    @inline function Fs(t) \n",
    "        gammacdf(shape, invscale, t)\n",
    "    end\n",
    "    # this for-loop is based on coarseData R package consolidated to one piece of code\n",
    "    @simd for k in 1:nrow(df)\n",
    "        E_R = df[k,:E_R]; E_L = df[k,:E_L]; S_R = df[k,:S_R]; S_L = df[k,:S_L]\n",
    "        if (S_L!=S_R)\n",
    "            if (S_L > E_R) # if the intervals do not overlap\n",
    "                loglk += log(hquadrature(e -> (Fs(S_R-e) - Fs(S_L-e)), E_L, E_R)[1])\n",
    "            elseif (S_L > E_L)\n",
    "                loglk += log(hquadrature(e -> (Fs(S_R-e) - Fs(S_L-e)), E_L, S_L)[1] + hquadrature(e -> Fs(S_R-e), S_L, E_R)[1])\n",
    "            else\n",
    "                loglk += log(hquadrature(e -> Fs(S_R-e), E_L, E_R)[1])\n",
    "            end\n",
    "        else \n",
    "            println(\"There are S_L = S_R!\")\n",
    "        end\n",
    "    end\n",
    "    ProgressMeter.update!(prog, -loglk)\n",
    "    return(-loglk)\n",
    "end\n",
    "\n",
    "println(\"* MLE\")\n",
    "res0 = optimize(x -> getNegativeLoglk(x), [logmeans_inits[idx], logsd_inits[idx]])\n",
    "\n",
    "println(\"* Generating the results\")\n",
    "logprms = Optim.minimizer(res0)\n",
    "prms = exp.(logprms)\n",
    "println([(prms[1]/prms[2])^2, prms[2]^2/prms[1]])\n",
    "logmeans_inits[idx] = logprms[1]\n",
    "logsd_inits[idx] = logprms[2]\n",
    "\n",
    "negloglk = Optim.minimum(res0)\n",
    "AIC = -2*2 + 2negloglk\n",
    "\n",
    "res = [prms[1], prms[2], negloglk, AIC]\n",
    "\n",
    "println(\"* profile-based for the mean\")\n",
    "step = .16\n",
    "function y(s) \n",
    "    y = Optim.minimum(optimize(x -> getNegativeLoglk([s x]), [logsd_inits[idx]], LBFGS()))\n",
    "    println(y)\n",
    "    return  y - negloglk - 1.92\n",
    "end\n",
    "\n",
    "# x0 = logprms[1]\n",
    "# y0s = -1.92\n",
    "# while y0s<0\n",
    "#     x0 -= step\n",
    "#     y0s = y(x0)\n",
    "#     println(y0s)\n",
    "# end\n",
    "logprms1_lower = fzero(y, logsd_inits[idx])[1]\n",
    "\n",
    "\n",
    "# logprms1_lower = fzero(y, logprms[2]-0.01)[1]"
   ]
  },
  {
   "cell_type": "code",
   "execution_count": 28,
   "metadata": {},
   "outputs": [
    {
     "name": "stderr",
     "output_type": "stream",
     "text": [
      "\u001b[32mWithout truncation: (thresh = -Inf, value = 58.2234)\u001b[39m"
     ]
    },
    {
     "ename": "InterruptException",
     "evalue": "InterruptException:",
     "output_type": "error",
     "traceback": [
      "InterruptException:",
      "",
      "Stacktrace:",
      " [1] #17 at /home/aakhmetz/.julia/packages/Cubature/GQTey/src/Cubature.jl:224 [inlined]",
      " [2] disable_sigint at ./c.jl:446 [inlined]",
      " [3] cubature(::Bool, ::Bool, ::Bool, ::Bool, ::Int64, ::var\"#161#166\"{var\"#Fs#165\"{Float64,Float64},Int64,Int64}, ::Int64, ::Int64, ::Float64, ::Int64, ::Int64, ::Int32) at /home/aakhmetz/.julia/packages/Cubature/GQTey/src/Cubature.jl:178",
      " [4] #hquadrature#30(::Float64, ::Int64, ::Int64, ::typeof(hquadrature), ::Function, ::Int64, ::Int64) at /home/aakhmetz/.julia/packages/Cubature/GQTey/src/Cubature.jl:239",
      " [5] hquadrature(::Function, ::Int64, ::Int64) at /home/aakhmetz/.julia/packages/Cubature/GQTey/src/Cubature.jl:239",
      " [6] macro expansion at ./In[26]:30 [inlined]",
      " [7] macro expansion at ./simdloop.jl:77 [inlined]",
      " [8] getNegativeLoglk(::Array{Float64,2}) at ./In[26]:26",
      " [9] #172 at ./In[26]:62 [inlined]",
      " [10] #finite_difference_gradient!#16(::Float64, ::Float64, ::Bool, ::typeof(FiniteDiff.finite_difference_gradient!), ::Array{Float64,1}, ::var\"#172#173\"{Float64}, ::Array{Float64,1}, ::FiniteDiff.GradientCache{Nothing,Nothing,Nothing,Val{:central},Float64,Val{true}}) at /home/aakhmetz/.julia/packages/FiniteDiff/IPtYL/src/gradients.jl:321",
      " [11] finite_difference_gradient! at /home/aakhmetz/.julia/packages/FiniteDiff/IPtYL/src/gradients.jl:273 [inlined]",
      " [12] (::NLSolversBase.var\"#g!#15\"{var\"#172#173\"{Float64},FiniteDiff.GradientCache{Nothing,Nothing,Nothing,Val{:central},Float64,Val{true}}})(::Array{Float64,1}, ::Array{Float64,1}) at /home/aakhmetz/.julia/packages/NLSolversBase/mGaJg/src/objective_types/oncedifferentiable.jl:57",
      " [13] (::NLSolversBase.var\"#fg!#16\"{var\"#172#173\"{Float64}})(::Array{Float64,1}, ::Array{Float64,1}) at /home/aakhmetz/.julia/packages/NLSolversBase/mGaJg/src/objective_types/oncedifferentiable.jl:61",
      " [14] value_gradient!!(::OnceDifferentiable{Float64,Array{Float64,1},Array{Float64,1}}, ::Array{Float64,1}) at /home/aakhmetz/.julia/packages/NLSolversBase/mGaJg/src/interface.jl:82",
      " [15] value_gradient!(::OnceDifferentiable{Float64,Array{Float64,1},Array{Float64,1}}, ::Array{Float64,1}) at /home/aakhmetz/.julia/packages/NLSolversBase/mGaJg/src/interface.jl:69",
      " [16] value_gradient!(::Optim.ManifoldObjective{OnceDifferentiable{Float64,Array{Float64,1},Array{Float64,1}}}, ::Array{Float64,1}) at /home/aakhmetz/.julia/packages/Optim/SFpsz/src/Manifolds.jl:50",
      " [17] (::LineSearches.var\"#ϕdϕ#6\"{Optim.ManifoldObjective{OnceDifferentiable{Float64,Array{Float64,1},Array{Float64,1}}},Array{Float64,1},Array{Float64,1},Array{Float64,1}})(::Float64) at /home/aakhmetz/.julia/packages/LineSearches/WrsMD/src/LineSearches.jl:84",
      " [18] (::LineSearches.HagerZhang{Float64,Base.RefValue{Bool}})(::Function, ::LineSearches.var\"#ϕdϕ#6\"{Optim.ManifoldObjective{OnceDifferentiable{Float64,Array{Float64,1},Array{Float64,1}}},Array{Float64,1},Array{Float64,1},Array{Float64,1}}, ::Float64, ::Float64, ::Float64) at /home/aakhmetz/.julia/packages/LineSearches/WrsMD/src/hagerzhang.jl:146",
      " [19] HagerZhang at /home/aakhmetz/.julia/packages/LineSearches/WrsMD/src/hagerzhang.jl:101 [inlined]",
      " [20] perform_linesearch!(::Optim.LBFGSState{Array{Float64,1},Array{Array{Float64,1},1},Array{Array{Float64,1},1},Float64,Array{Float64,1}}, ::LBFGS{Nothing,LineSearches.InitialStatic{Float64},LineSearches.HagerZhang{Float64,Base.RefValue{Bool}},Optim.var\"#19#21\"}, ::Optim.ManifoldObjective{OnceDifferentiable{Float64,Array{Float64,1},Array{Float64,1}}}) at /home/aakhmetz/.julia/packages/Optim/SFpsz/src/utilities/perform_linesearch.jl:53",
      " [21] update_state!(::OnceDifferentiable{Float64,Array{Float64,1},Array{Float64,1}}, ::Optim.LBFGSState{Array{Float64,1},Array{Array{Float64,1},1},Array{Array{Float64,1},1},Float64,Array{Float64,1}}, ::LBFGS{Nothing,LineSearches.InitialStatic{Float64},LineSearches.HagerZhang{Float64,Base.RefValue{Bool}},Optim.var\"#19#21\"}) at /home/aakhmetz/.julia/packages/Optim/SFpsz/src/multivariate/solvers/first_order/l_bfgs.jl:198",
      " [22] optimize(::OnceDifferentiable{Float64,Array{Float64,1},Array{Float64,1}}, ::Array{Float64,1}, ::LBFGS{Nothing,LineSearches.InitialStatic{Float64},LineSearches.HagerZhang{Float64,Base.RefValue{Bool}},Optim.var\"#19#21\"}, ::Optim.Options{Float64,Nothing}, ::Optim.LBFGSState{Array{Float64,1},Array{Array{Float64,1},1},Array{Array{Float64,1},1},Float64,Array{Float64,1}}) at /home/aakhmetz/.julia/packages/Optim/SFpsz/src/multivariate/optimize/optimize.jl:57",
      " [23] optimize(::OnceDifferentiable{Float64,Array{Float64,1},Array{Float64,1}}, ::Array{Float64,1}, ::LBFGS{Nothing,LineSearches.InitialStatic{Float64},LineSearches.HagerZhang{Float64,Base.RefValue{Bool}},Optim.var\"#19#21\"}, ::Optim.Options{Float64,Nothing}) at /home/aakhmetz/.julia/packages/Optim/SFpsz/src/multivariate/optimize/optimize.jl:33",
      " [24] #optimize#93 at /home/aakhmetz/.julia/packages/Optim/SFpsz/src/multivariate/optimize/interface.jl:116 [inlined]",
      " [25] optimize(::Function, ::Array{Float64,1}, ::LBFGS{Nothing,LineSearches.InitialStatic{Float64},LineSearches.HagerZhang{Float64,Base.RefValue{Bool}},Optim.var\"#19#21\"}, ::Optim.Options{Float64,Nothing}) at /home/aakhmetz/.julia/packages/Optim/SFpsz/src/multivariate/optimize/interface.jl:115 (repeats 2 times)",
      " [26] y(::Float64) at ./In[26]:62",
      " [27] (::Roots.FnWrapper)(::Float64) at /home/aakhmetz/.julia/packages/Roots/J9LJJ/src/find_zero.jl:261",
      " [28] (::Roots.DerivativeFree{Roots.FnWrapper})(::Float64) at /home/aakhmetz/.julia/packages/Roots/J9LJJ/src/find_zero.jl:262 (repeats 2 times)",
      " [29] init_state(::Roots.Secant, ::Roots.DerivativeFree{Roots.DerivativeFree{Roots.FnWrapper}}, ::Tuple{Float64,Float64}) at /home/aakhmetz/.julia/packages/Roots/J9LJJ/src/derivative_free.jl:64",
      " [30] init_state(::Roots.Secant, ::Roots.DerivativeFree{Roots.DerivativeFree{Roots.FnWrapper}}, ::Float64) at /home/aakhmetz/.julia/packages/Roots/J9LJJ/src/derivative_free.jl:59",
      " [31] #find_zero#4(::Roots.NullTracks, ::Bool, ::Base.Iterators.Pairs{Union{},Union{},Tuple{},NamedTuple{(),Tuple{}}}, ::typeof(find_zero), ::Roots.DerivativeFree{Roots.FnWrapper}, ::Float64, ::Roots.Secant, ::Roots.AlefeldPotraShi) at /home/aakhmetz/.julia/packages/Roots/J9LJJ/src/find_zero.jl:533",
      " [32] #find_zero at ./none:0 [inlined]",
      " [33] #find_zero#34 at /home/aakhmetz/.julia/packages/Roots/J9LJJ/src/derivative_free.jl:123 [inlined]",
      " [34] find_zero at /home/aakhmetz/.julia/packages/Roots/J9LJJ/src/derivative_free.jl:120 [inlined]",
      " [35] #derivative_free#53(::Int64, ::Base.Iterators.Pairs{Union{},Union{},Tuple{},NamedTuple{(),Tuple{}}}, ::typeof(Roots.derivative_free), ::Function, ::Float64) at /home/aakhmetz/.julia/packages/Roots/J9LJJ/src/fzero.jl:155",
      " [36] derivative_free(::Function, ::Float64) at /home/aakhmetz/.julia/packages/Roots/J9LJJ/src/fzero.jl:134",
      " [37] #fzero#46 at /home/aakhmetz/.julia/packages/Roots/J9LJJ/src/fzero.jl:65 [inlined]",
      " [38] fzero(::Function, ::Float64) at /home/aakhmetz/.julia/packages/Roots/J9LJJ/src/fzero.jl:63",
      " [39] top-level scope at In[28]:1"
     ]
    }
   ],
   "source": [
    "logprms1_lower = fzero(y, x0)[1]"
   ]
  },
  {
   "cell_type": "code",
   "execution_count": null,
   "metadata": {},
   "outputs": [],
   "source": []
  },
  {
   "cell_type": "code",
   "execution_count": null,
   "metadata": {},
   "outputs": [],
   "source": [
    "func = TwiceDifferentiable(vars -> Log_Likelihood(x, y, vars[1:nvar], vars[nvar + 1]),\n",
    "                           ones(nvar+1); autodiff=:forward);"
   ]
  },
  {
   "cell_type": "code",
   "execution_count": null,
   "metadata": {},
   "outputs": [],
   "source": [
    "logmeans_inits = log.([4.2, 5.5, 3.7, 5., 6.8, 7.2])\n",
    "logsd_inits = log.([3.2, 5.5, 6.2, 5., 5.8, 5.5])"
   ]
  },
  {
   "cell_type": "code",
   "execution_count": null,
   "metadata": {},
   "outputs": [],
   "source": []
  },
  {
   "cell_type": "code",
   "execution_count": 64,
   "metadata": {},
   "outputs": [
    {
     "data": {
      "text/plain": [
       "1.0900026440345811"
      ]
     },
     "execution_count": 64,
     "metadata": {},
     "output_type": "execute_result"
    }
   ],
   "source": [
    "logprms[2]"
   ]
  },
  {
   "cell_type": "code",
   "execution_count": null,
   "metadata": {},
   "outputs": [],
   "source": []
  },
  {
   "cell_type": "code",
   "execution_count": 8,
   "metadata": {},
   "outputs": [
    {
     "name": "stdout",
     "output_type": "stream",
     "text": [
      "search:"
     ]
    },
    {
     "ename": "InterruptException",
     "evalue": "InterruptException:",
     "output_type": "error",
     "traceback": [
      "InterruptException:",
      "",
      "Stacktrace:",
      " [1] accessible(::Module) at /buildworker/worker/package_linux64/build/usr/share/julia/stdlib/v1.3/REPL/src/docview.jl:533",
      " [2] doc_completions(::String) at /buildworker/worker/package_linux64/build/usr/share/julia/stdlib/v1.3/REPL/src/docview.jl:538",
      " [3] repl_search(::IJulia.IJuliaStdio{Base.PipeEndpoint}, ::String) at /buildworker/worker/package_linux64/build/usr/share/julia/stdlib/v1.3/REPL/src/docview.jl:225",
      " [4] top-level scope at /buildworker/worker/package_linux64/build/usr/share/julia/stdlib/v1.3/REPL/src/docview.jl:281",
      " [5] eval at ./boot.jl:330 [inlined]",
      " [6] execute_request(::ZMQ.Socket, ::IJulia.Msg) at /home/aakhmetz/.julia/packages/IJulia/fXyGm/src/execute_request.jl:64",
      " [7] #invokelatest#1 at ./essentials.jl:709 [inlined]",
      " [8] invokelatest at ./essentials.jl:708 [inlined]",
      " [9] eventloop(::ZMQ.Socket) at /home/aakhmetz/.julia/packages/IJulia/fXyGm/src/eventloop.jl:8",
      " [10] (::IJulia.var\"#15#18\")() at ./task.jl:333"
     ]
    }
   ],
   "source": [
    "?expm1"
   ]
  },
  {
   "cell_type": "code",
   "execution_count": null,
   "metadata": {},
   "outputs": [],
   "source": []
  },
  {
   "cell_type": "code",
   "execution_count": null,
   "metadata": {},
   "outputs": [],
   "source": []
  },
  {
   "cell_type": "markdown",
   "metadata": {},
   "source": [
    "# Without truncation"
   ]
  },
  {
   "cell_type": "code",
   "execution_count": 39,
   "metadata": {},
   "outputs": [
    {
     "name": "stdout",
     "output_type": "stream",
     "text": [
      "data_incper\n",
      "* MLE\n"
     ]
    },
    {
     "name": "stderr",
     "output_type": "stream",
     "text": [
      "\u001b[32mWithout truncation: (thresh = -Inf, value = 57.4362)\u001b[39m"
     ]
    },
    {
     "name": "stdout",
     "output_type": "stream",
     "text": [
      "* Generating the results\n",
      "[2.955527476763615, 1.7300437793494186]\n",
      "* profile-based for the mean\n"
     ]
    },
    {
     "ename": "MethodError",
     "evalue": "MethodError: no method matching optimize(::var\"#151#162\"{Float64,var\"#getNegativeLoglk#154\"{ProgressThresh{Float64}}}, ::Float64)\nClosest candidates are:\n  optimize(::F, ::T, !Matched::T; method, rel_tol, abs_tol, iterations, store_trace, show_trace, callback, show_every, extended_trace) where {F<:Function, T<:AbstractFloat} at /home/aakhmetz/.julia/packages/Optim/SFpsz/src/univariate/optimize/interface.jl:14\n  optimize(::F, ::T, !Matched::T, !Matched::GoldenSection; rel_tol, abs_tol, iterations, store_trace, show_trace, callback, show_every, extended_trace, nargs...) where {F<:Function, T<:AbstractFloat} at /home/aakhmetz/.julia/packages/Optim/SFpsz/src/univariate/solvers/golden_section.jl:54\n  optimize(::F, ::T, !Matched::T, !Matched::Brent; rel_tol, abs_tol, iterations, store_trace, show_trace, callback, show_every, extended_trace) where {F<:Function, T<:AbstractFloat} at /home/aakhmetz/.julia/packages/Optim/SFpsz/src/univariate/solvers/brent.jl:58\n  ...",
     "output_type": "error",
     "traceback": [
      "MethodError: no method matching optimize(::var\"#151#162\"{Float64,var\"#getNegativeLoglk#154\"{ProgressThresh{Float64}}}, ::Float64)\nClosest candidates are:\n  optimize(::F, ::T, !Matched::T; method, rel_tol, abs_tol, iterations, store_trace, show_trace, callback, show_every, extended_trace) where {F<:Function, T<:AbstractFloat} at /home/aakhmetz/.julia/packages/Optim/SFpsz/src/univariate/optimize/interface.jl:14\n  optimize(::F, ::T, !Matched::T, !Matched::GoldenSection; rel_tol, abs_tol, iterations, store_trace, show_trace, callback, show_every, extended_trace, nargs...) where {F<:Function, T<:AbstractFloat} at /home/aakhmetz/.julia/packages/Optim/SFpsz/src/univariate/solvers/golden_section.jl:54\n  optimize(::F, ::T, !Matched::T, !Matched::Brent; rel_tol, abs_tol, iterations, store_trace, show_trace, callback, show_every, extended_trace) where {F<:Function, T<:AbstractFloat} at /home/aakhmetz/.julia/packages/Optim/SFpsz/src/univariate/solvers/brent.jl:58\n  ...",
      "",
      "Stacktrace:",
      " [1] (::var\"#y#161\"{var\"#getNegativeLoglk#154\"{ProgressThresh{Float64}},Array{Float64,1},Float64})(::Float64) at ./In[39]:67",
      " [2] top-level scope at In[39]:71"
     ]
    }
   ],
   "source": [
    "filenames = [\"data_incper\", \"data_incper_inclwuhan\", \"data_ons_hosp\", \n",
    "    \"dthdata_hosp_dth\", \"dthdata_ons_dth\", \"dthdata_ons_hosp\"]\n",
    "tmax = [16, 16, 16, 35, 35, 35]\n",
    "tmstps = [4, 4, 4, 7, 7, 7]\n",
    "\n",
    "logmeans_inits = log.([4.2, 5.5, 3.7, 5., 6.8, 7.2])\n",
    "logsd_inits = log.([3.2, 5.5, 6.2, 5., 5.8, 5.5])\n",
    "\n",
    "idx = 1\n",
    "for flname in [filenames[1]]#[idx:end]\n",
    "    println(flname)\n",
    "    df = DataFrame(CSV.read(\"../../data/$(flname).csv\", missingstring=\"NA\"))\n",
    "    select!(df, [:EL, :ER, :SL, :SR, :tstar])\n",
    "    rename!(df, Dict(:EL=>:E_L, :ER=>:E_R, :SL=>:S_L, :SR=>:S_R))\n",
    "    \n",
    "    if (idx==2)\n",
    "        df[df[!,:E_L].==0,:E_L] .= df[df[!,:E_L].==0,:S_L] .- 28.\n",
    "    end\n",
    "    \n",
    "    prog = ProgressThresh(-Inf, \"Without truncation:\") \n",
    "    function getNegativeLoglk(params)\n",
    "        mean_SI = exp(params[1]) # make the parameters positive\n",
    "        sd_SI = exp(params[2]) # make the parameters positive\n",
    "        shape = (mean_SI/sd_SI)^2\n",
    "        invscale = (sd_SI^2)/mean_SI\n",
    "        loglk = 0\n",
    "        @inline function Fs(t) \n",
    "            gammacdf(shape, invscale, t)\n",
    "        end\n",
    "        # this for-loop is based on coarseData R package consolidated to one piece of code\n",
    "        @simd for k in 1:nrow(df)\n",
    "            E_R = df[k,:E_R]; E_L = df[k,:E_L]; S_R = df[k,:S_R]; S_L = df[k,:S_L]\n",
    "            if (S_L!=S_R)\n",
    "                if (S_L > E_R) # if the intervals do not overlap\n",
    "                    loglk += log(hquadrature(e -> (Fs(S_R-e) - Fs(S_L-e)), E_L, E_R)[1])\n",
    "                elseif (S_L > E_L)\n",
    "                    loglk += log(hquadrature(e -> (Fs(S_R-e) - Fs(S_L-e)), E_L, S_L)[1] + hquadrature(e -> Fs(S_R-e), S_L, E_R)[1])\n",
    "                else\n",
    "                    loglk += log(hquadrature(e -> Fs(S_R-e), E_L, E_R)[1])\n",
    "                end\n",
    "            else \n",
    "                println(\"There are S_L = S_R!\")\n",
    "            end\n",
    "        end\n",
    "        ProgressMeter.update!(prog, -loglk)\n",
    "        return(-loglk)\n",
    "    end\n",
    "    \n",
    "    println(\"* MLE\")\n",
    "    res0 = optimize(x -> getNegativeLoglk(x), [logmeans_inits[idx], logsd_inits[idx]])\n",
    "    \n",
    "    println(\"* Generating the results\")\n",
    "    logprms = Optim.minimizer(res0)\n",
    "    prms = exp.(logprms)\n",
    "    println([(prms[1]/prms[2])^2, prms[2]^2/prms[1]])\n",
    "    logmeans_inits[idx] = logprms[1]\n",
    "    logsd_inits[idx] = logprms[2]\n",
    "\n",
    "    negloglk = Optim.minimum(res0)\n",
    "    AIC = -2*2 + 2negloglk\n",
    "\n",
    "    res = [prms[1], prms[2], negloglk, AIC]\n",
    "    \n",
    "    println(\"* profile-based for the mean\")\n",
    "    step = .1\n",
    "    function y(logs) \n",
    "        y = Optim.minimum(optimize(x -> getNegativeLoglk([logs, x]), logprms[2]))\n",
    "        return  y - negloglk - 1.92\n",
    "    end\n",
    "    x0 = logprms[1]\n",
    "    while y(x0)<0\n",
    "        x0 -= step\n",
    "    end\n",
    "    logprms1_lower = fzero(y, x0)[1]\n",
    "\n",
    "    x0 = logprms[1]\n",
    "    while y(x0)<0\n",
    "        x0 += step\n",
    "    end\n",
    "    logprms1_upper = fzero(y, (logprms[1], x0))[1]\n",
    "\n",
    "    res_ = exp.([logprms1_lower, logprms1_upper])\n",
    "    res = vcat(res, res_)\n",
    "    means_samples = latin_hypercube_sampling([res_[1]],[res_[2]],nsamples);\n",
    "    \n",
    "    println(\"* profile-based for the SD\")\n",
    "    step = .1\n",
    "    y = x -> getNegativeLoglk([logprms[1], x]) - negloglk - 1.92\n",
    "    x0 = logprms[2]\n",
    "    while y(x0)<0\n",
    "        x0 -= step\n",
    "    end\n",
    "    logprms1_lower = fzero(y, (x0,logprms[2]))[1]\n",
    "\n",
    "    x0 = logprms[2]\n",
    "    while y(x0)<0\n",
    "        x0 += step\n",
    "    end\n",
    "    logprms1_upper = fzero(y, (logprms[2], x0))[1]\n",
    "\n",
    "    res_ = exp.([logprms1_lower, logprms1_upper])\n",
    "    res = vcat(res, res_)\n",
    "    SD_samples = latin_hypercube_sampling([res_[1]],[res_[2]],nsamples);\n",
    "    \n",
    "    println(\"* Creating a plot\")\n",
    "    t = [0:0.05:tmax[idx];]\n",
    "    for idx in 1:nsamples\n",
    "        shape = (means_samples[idx]/SD_samples[idx])^2\n",
    "        scale = SD_samples[idx]^2/means_samples[idx]\n",
    "        if idx>1\n",
    "            append!(y,[cdf.(Gamma(shape, scale),t)])\n",
    "        else \n",
    "            y = [cdf.(Gamma(shape, scale),t)]\n",
    "        end\n",
    "    end\n",
    "    plot(t, y[1:100], legend=false, color=clrs[1], alpha=.3, \n",
    "        grid=false, yticks = 0:0.2:1, xticks = 0:tmstps[idx]:tmax[idx],\n",
    "        xlabel=\"Exposure to onset (days)\", ylabel=\"Proportion with symptoms\",\n",
    "        size = (300,400), dpi = 300)\n",
    "    plot!(t, median(hcat(y...);dims=2), color=clrs[2], lw=1.4)\n",
    "\n",
    "    quantiles = [0.05,.5,.95,.99]\n",
    "    for idx in 1:nsamples\n",
    "        shape = (means_samples[idx]/SD_samples[idx])^2\n",
    "        scale = SD_samples[idx]^2/means_samples[idx]\n",
    "        if idx>1\n",
    "            append!(y,[quantile.(Gamma(shape, scale),quantiles)])\n",
    "        else \n",
    "            y = [quantile.(Gamma(shape, scale),quantiles)]\n",
    "        end\n",
    "    end\n",
    "    y = hcat(y...)\n",
    "    for i in 1:length(quantiles)\n",
    "        if i<=3\n",
    "            plot!(quantile(y[i,:],[0.025,.975]),[quantiles[i],quantiles[i]], color=clrs[2])\n",
    "        end\n",
    "    end\n",
    "    scatter!(median(y;dims=2)[1:(end-1)], quantiles[1:(end-1)], \n",
    "        color=clrs[2], markercolor=clrs[2], markersize=5) \n",
    "\n",
    "    Plots.pdf(\"$(results_dir)/gamma-$(flname)-no_truncation.pdf\")\n",
    "    \n",
    "    for i in 1:length(quantiles)\n",
    "        res_ = quantile(y[i,:],[0.025, .5, .975])\n",
    "        res = vcat(res, res_)\n",
    "    end\n",
    "    \n",
    "    println(res)\n",
    "    \n",
    "    res=reshape(vcat([\"$(flname)\",\"Gamma\", \"no\"],round.(res,digits=4)),1,length(res)+3)\n",
    "    open(results_file, \"a\") do io\n",
    "        writedlm(io, res, ',')\n",
    "    end\n",
    "    \n",
    "    idx += 1\n",
    "end"
   ]
  },
  {
   "cell_type": "code",
   "execution_count": 35,
   "metadata": {},
   "outputs": [
    {
     "ename": "UndefVarError",
     "evalue": "UndefVarError: res0 not defined",
     "output_type": "error",
     "traceback": [
      "UndefVarError: res0 not defined",
      "",
      "Stacktrace:",
      " [1] top-level scope at In[35]:1"
     ]
    }
   ],
   "source": [
    "res0"
   ]
  },
  {
   "cell_type": "code",
   "execution_count": null,
   "metadata": {},
   "outputs": [],
   "source": []
  },
  {
   "cell_type": "markdown",
   "metadata": {},
   "source": [
    "# With truncation"
   ]
  },
  {
   "cell_type": "code",
   "execution_count": 34,
   "metadata": {},
   "outputs": [
    {
     "name": "stdout",
     "output_type": "stream",
     "text": [
      "data_incper_inclwuhan\n",
      "* MLE\n"
     ]
    },
    {
     "name": "stderr",
     "output_type": "stream",
     "text": [
      "\u001b[32mWith truncation: (thresh = -Inf, value = 379.296)\u001b[39m"
     ]
    },
    {
     "name": "stdout",
     "output_type": "stream",
     "text": [
      "* Generating the results\n",
      "* profile-based for the mean\n"
     ]
    },
    {
     "name": "stderr",
     "output_type": "stream",
     "text": [
      "\u001b[32mWith truncation: (thresh = -Inf, value = 381.216)\u001b[39m"
     ]
    },
    {
     "name": "stdout",
     "output_type": "stream",
     "text": [
      "* profile-based for the SD\n"
     ]
    },
    {
     "name": "stderr",
     "output_type": "stream",
     "text": [
      "\u001b[32mWith truncation: (thresh = -Inf, value = 381.216)\u001b[39m"
     ]
    },
    {
     "ename": "InterruptException",
     "evalue": "InterruptException:",
     "output_type": "error",
     "traceback": [
      "InterruptException:",
      "",
      "Stacktrace:",
      " [1] #17 at /home/aakhmetz/.julia/packages/Cubature/GQTey/src/Cubature.jl:224 [inlined]",
      " [2] disable_sigint at ./c.jl:446 [inlined]",
      " [3] cubature(::Bool, ::Bool, ::Bool, ::Bool, ::Int64, ::var\"#107#120\"{var\"#Fs#116\"{Float64,Float64},Int64,Int64,var\"#g#117\"{Float64,var\"#Fs#116\"{Float64,Float64},Int64}}, ::Int64, ::Int64, ::Float64, ::Int64, ::Int64, ::Int32) at /home/aakhmetz/.julia/packages/Cubature/GQTey/src/Cubature.jl:178",
      " [4] #hquadrature#30(::Float64, ::Int64, ::Int64, ::typeof(hquadrature), ::Function, ::Int64, ::Int64) at /home/aakhmetz/.julia/packages/Cubature/GQTey/src/Cubature.jl:239",
      " [5] hquadrature(::Function, ::Int64, ::Int64) at /home/aakhmetz/.julia/packages/Cubature/GQTey/src/Cubature.jl:239",
      " [6] macro expansion at ./In[34]:44 [inlined]",
      " [7] macro expansion at ./simdloop.jl:77 [inlined]",
      " [8] (::var\"#getNegativeLoglk#114\"{ProgressThresh{Float64}})(::Array{Float64,1}) at ./In[34]:35",
      " [9] (::var\"#112#125\"{var\"#getNegativeLoglk#114\"{ProgressThresh{Float64}},Array{Float64,1},Float64})(::Float64) at ./In[34]:92",
      " [10] (::Roots.FnWrapper)(::Float64) at /home/aakhmetz/.julia/packages/Roots/J9LJJ/src/find_zero.jl:261",
      " [11] (::Roots.DerivativeFree{Roots.FnWrapper})(::Float64) at /home/aakhmetz/.julia/packages/Roots/J9LJJ/src/find_zero.jl:262 (repeats 2 times)",
      " [12] decide_convergence(::Roots.BisectionExact, ::Roots.DerivativeFree{Roots.DerivativeFree{Roots.FnWrapper}}, ::Roots.UnivariateZeroState{Float64,Float64}, ::Roots.UnivariateZeroOptions{Float64,Float64,Float64,Float64}) at /home/aakhmetz/.julia/packages/Roots/J9LJJ/src/find_zero.jl:597",
      " [13] find_zero(::Roots.BisectionExact, ::Roots.DerivativeFree{Roots.DerivativeFree{Roots.FnWrapper}}, ::Roots.UnivariateZeroOptions{Float64,Float64,Float64,Float64}, ::Roots.UnivariateZeroState{Float64,Float64}, ::Roots.NullTracks) at /home/aakhmetz/.julia/packages/Roots/J9LJJ/src/find_zero.jl:580",
      " [14] #find_zero#4(::Roots.NullTracks, ::Bool, ::Base.Iterators.Pairs{Union{},Union{},Tuple{},NamedTuple{(),Tuple{}}}, ::typeof(find_zero), ::Roots.DerivativeFree{Roots.FnWrapper}, ::Tuple{Float64,Float64}, ::Roots.BisectionExact, ::Nothing) at /home/aakhmetz/.julia/packages/Roots/J9LJJ/src/find_zero.jl:539",
      " [15] #find_zero at ./none:0 [inlined] (repeats 2 times)",
      " [16] #find_zero#8(::Roots.NullTracks, ::Bool, ::Base.Iterators.Pairs{Union{},Union{},Tuple{},NamedTuple{(),Tuple{}}}, ::typeof(find_zero), ::Roots.FnWrapper, ::Tuple{Float64,Float64}, ::Bisection) at /home/aakhmetz/.julia/packages/Roots/J9LJJ/src/bracketing.jl:329",
      " [17] find_zero at /home/aakhmetz/.julia/packages/Roots/J9LJJ/src/bracketing.jl:316 [inlined]",
      " [18] #fzero#49 at /home/aakhmetz/.julia/packages/Roots/J9LJJ/src/fzero.jl:81 [inlined]",
      " [19] fzero(::Function, ::Tuple{Float64,Float64}) at /home/aakhmetz/.julia/packages/Roots/J9LJJ/src/fzero.jl:77",
      " [20] top-level scope at In[34]:103"
     ]
    }
   ],
   "source": [
    "filenames = [\"data_incper\", \"data_incper_inclwuhan\", \"data_ons_hosp\", \n",
    "    \"dthdata_hosp_dth\", \"dthdata_ons_dth\", \"dthdata_ons_hosp\"]\n",
    "tmax = [16, 16, 16, 35, 35, 16]\n",
    "tmstps = [4, 4, 4, 7, 7, 7]\n",
    "\n",
    "logmeans_inits = log.([4.2, 4.2, 3.7, 5., 6.2, 7.2])\n",
    "logsd_inits = log.([3.1, 6.05, 6.2, 5., 5.8, 5.5])\n",
    "\n",
    "idx = 2\n",
    "for flname in filenames[idx:end]\n",
    "    println(flname)\n",
    "    df = DataFrame(CSV.read(\"../../data/$(flname).csv\", missingstring=\"NA\"))\n",
    "    select!(df, [:EL, :ER, :SL, :SR, :tstar])\n",
    "    rename!(df, Dict(:EL=>:E_L, :ER=>:E_R, :SL=>:S_L, :SR=>:S_R))\n",
    "    \n",
    "    if (idx==2)\n",
    "        df[df[!,:E_L].==0,:E_L] .= df[df[!,:E_L].==0,:S_L] .- 28.\n",
    "    end\n",
    "    \n",
    "    prog = ProgressThresh(-Inf, \"With truncation:\") \n",
    "    function getNegativeLoglk(params)\n",
    "        r = 0.14\n",
    "        mean_SI = exp(params[1]) # make the parameters positive\n",
    "        sd_SI = exp(params[2]) # make the parameters positive\n",
    "        shape = (mean_SI/sd_SI)^2\n",
    "        invscale = (sd_SI^2)/mean_SI\n",
    "        loglk = 0\n",
    "        @inline function fs(t) \n",
    "            gammapdf(shape, invscale, t)\n",
    "        end\n",
    "        @inline function Fs(t) \n",
    "            gammacdf(shape, invscale, t)\n",
    "        end\n",
    "        # this for-loop is based on coarseData R package consolidated to one piece of code\n",
    "        @simd for k in 1:nrow(df)\n",
    "            E_R = df[k,:E_R]; E_L = df[k,:E_L]; S_R = df[k,:S_R]; S_L = df[k,:S_L]; tstar = df[k,:tstar]\n",
    "            @inline function g(e)\n",
    "                hquadrature(x -> r*exp(-r*x)/(1-exp(-r*x))*Fs(tstar-e-x), 0.001, tstar-e)[1]\n",
    "            end\n",
    "            if (S_L!=S_R)\n",
    "                if (S_L > E_R) # if the intervals do not overlap\n",
    "                    loglk += log(hquadrature(e -> (Fs(S_R-e) - Fs(S_L-e))/g(e), E_L, E_R)[1])\n",
    "                elseif (S_L > E_L)\n",
    "                    loglk += log(hquadrature(e -> (Fs(S_R-e) - Fs(S_L-e))/g(e), E_L, S_L)[1] + \n",
    "                                 hquadrature(e -> Fs(S_R-e)/g(e), S_L, E_R)[1])\n",
    "                else\n",
    "                    loglk += log(hquadrature(e -> Fs(S_R-e)/g(e), E_L, E_R)[1])\n",
    "                end\n",
    "            else\n",
    "                println(\"There are some S_L = S_R!\")\n",
    "            end\n",
    "        end\n",
    "        ProgressMeter.update!(prog, -loglk)\n",
    "        return(-loglk)\n",
    "    end\n",
    "    \n",
    "    println(\"* MLE\")\n",
    "    res0 = optimize(x -> getNegativeLoglk(x), [logmeans_inits[idx], logsd_inits[idx]])\n",
    "    \n",
    "    println(\"* Generating the results\")\n",
    "    logprms = Optim.minimizer(res0)\n",
    "    prms = exp.(logprms)\n",
    "    logmeans_inits[idx] = logprms[1]\n",
    "    logsd_inits[idx] = logprms[2]\n",
    "\n",
    "    negloglk = Optim.minimum(res0)\n",
    "    AIC = -2*2 + 2negloglk\n",
    "\n",
    "    res = [prms[1], prms[2], negloglk, AIC]\n",
    "    \n",
    "    println(\"* profile-based for the mean\")\n",
    "    step = .1\n",
    "    y = x -> getNegativeLoglk([x, logprms[2]]) - negloglk - 1.92\n",
    "    x0 = logprms[1]\n",
    "    while y(x0)<0\n",
    "        x0 -= step\n",
    "    end\n",
    "    logprms1_lower = fzero(y, (x0,logprms[1]))[1]\n",
    "\n",
    "    x0 = logprms[1]\n",
    "    while y(x0)<0\n",
    "        x0 += step\n",
    "    end\n",
    "    logprms1_upper = fzero(y, (logprms[1], x0))[1]\n",
    "\n",
    "    res_ = exp.([logprms1_lower, logprms1_upper])\n",
    "    res = vcat(res, res_)\n",
    "    means_samples = latin_hypercube_sampling([res_[1]],[res_[2]],nsamples);\n",
    "    \n",
    "    println(\"* profile-based for the SD\")\n",
    "    step = .1\n",
    "    y = x -> getNegativeLoglk([logprms[1], x]) - negloglk - 1.92\n",
    "    x0 = logprms[2]\n",
    "    while y(x0)<0\n",
    "        x0 -= step\n",
    "    end\n",
    "    logprms1_lower = fzero(y, (x0,logprms[2]))[1]\n",
    "\n",
    "    x0 = logprms[2]\n",
    "    while y(x0)<0\n",
    "        x0 += step\n",
    "    end\n",
    "    logprms1_upper = fzero(y, (logprms[2], x0))[1]\n",
    "\n",
    "    res_ = exp.([logprms1_lower, logprms1_upper])\n",
    "    res = vcat(res, res_)\n",
    "    SD_samples = latin_hypercube_sampling([res_[1]],[res_[2]],nsamples);\n",
    "    \n",
    "    println(\"* Creating a plot\")\n",
    "    t = [0:0.05:tmax[idx];]\n",
    "    for idx in 1:nsamples\n",
    "        shape = (means_samples[idx]/SD_samples[idx])^2\n",
    "        scale = SD_samples[idx]^2/means_samples[idx]\n",
    "        if idx>1\n",
    "            append!(y,[cdf.(Gamma(shape, scale),t)])\n",
    "        else \n",
    "            y = [cdf.(Gamma(shape, scale),t)]\n",
    "        end\n",
    "    end\n",
    "    plot(t, y[1:100], legend=false, color=clrs[1], alpha=.3, \n",
    "        grid=false, yticks = 0:0.2:1, xticks = 0:tmstps[idx]:tmax[idx],\n",
    "        xlabel=\"Exposure to onset (days)\", ylabel=\"Proportion with symptoms\",\n",
    "        size = (300,400), dpi = 300)\n",
    "    plot!(t, median(hcat(y...);dims=2), color=clrs[2], lw=1.4)\n",
    "\n",
    "    quantiles = [0.05,.5,.95,.99]\n",
    "    for idx in 1:nsamples\n",
    "        shape = (means_samples[idx]/SD_samples[idx])^2\n",
    "        scale = SD_samples[idx]^2/means_samples[idx]\n",
    "        if idx>1\n",
    "            append!(y,[quantile.(Gamma(shape, scale),quantiles)])\n",
    "        else \n",
    "            y = [quantile.(Gamma(shape, scale),quantiles)]\n",
    "        end\n",
    "    end\n",
    "    y = hcat(y...)\n",
    "    for i in 1:length(quantiles)\n",
    "        if i<=3\n",
    "            plot!(quantile(y[i,:],[0.025,.975]),[quantiles[i],quantiles[i]], color=clrs[2])\n",
    "        end\n",
    "    end\n",
    "    scatter!(median(y;dims=2)[1:(end-1)], quantiles[1:(end-1)], \n",
    "        color=clrs[2], markercolor=clrs[2], markersize=5) \n",
    "\n",
    "    Plots.pdf(\"$(results_dir)/gamma-$(flname)-with_truncation.pdf\")\n",
    "    \n",
    "    for i in 1:length(quantiles)\n",
    "        res_ = quantile(y[i,:],[0.025, .5, .975])\n",
    "        res = vcat(res, res_)\n",
    "    end\n",
    "    \n",
    "    println(res)\n",
    "    \n",
    "    res=reshape(vcat([\"$(flname)\",\"Gamma\", \"yes\"],round.(res,digits=4)),1,length(res)+3)\n",
    "    open(results_file, \"a\") do io\n",
    "        writedlm(io, res, ',')\n",
    "    end\n",
    "    \n",
    "    idx += 1\n",
    "end"
   ]
  },
  {
   "cell_type": "code",
   "execution_count": null,
   "metadata": {},
   "outputs": [],
   "source": []
  },
  {
   "cell_type": "code",
   "execution_count": null,
   "metadata": {},
   "outputs": [],
   "source": []
  }
 ],
 "metadata": {
  "kernelspec": {
   "display_name": "Julia 1.3.1",
   "language": "julia",
   "name": "julia-1.3"
  },
  "language_info": {
   "file_extension": ".jl",
   "mimetype": "application/julia",
   "name": "julia",
   "version": "1.3.1"
  }
 },
 "nbformat": 4,
 "nbformat_minor": 4
}
